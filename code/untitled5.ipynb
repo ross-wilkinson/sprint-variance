#!/usr/bin/env python3
# -*- coding: utf-8 -*-
"""
Created on Fri Dec 18 03:08:19 2020

@author: rosswilkinson
"""
